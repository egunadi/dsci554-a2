{
    "cells": [
        {
            "cell_type": "markdown",
            "metadata": {
                "azdata_cell_guid": "d7fde255-3200-4818-b9a8-5b14e1b9c178"
            },
            "source": [
                "# UN Data Analysis"
            ]
        },
        {
            "cell_type": "markdown",
            "metadata": {
                "azdata_cell_guid": "a0cea69d-b0ff-4f3f-86d5-e770d67d1e95"
            },
            "source": [
                "## Data Collection\n",
                "\n",
                "United Nations (UN) data on total population, both sexes combined (thousands), for Japan, Korea, and China can be downloaded here:\n",
                "\n",
                "https://data.un.org/Data.aspx?q=japan&d=PopDiv&f=variableID%3a12%3bcrID%3a156%2c392%2c410&c=2,4,6,7&s=_crEngNameOrderBy:asc,_timeEngNameOrderBy:desc,_varEngNameOrderBy:asc&v=1\n",
                "\n",
                "UN data on GDP by type of expenditure for Japan, Korea, and China can be downloaded here:\n",
                "\n",
                "https://data.un.org/Data.aspx?q=japan&d=SNAAMA&f=grID%3a101%3bcurrID%3aNCU%3bpcFlag%3afalse%3bcrID%3a156%2c392%2c410&c=2,3,5,6&s=_crEngNameOrderBy:asc,yr:desc&v=1"
            ]
        },
        {
            "cell_type": "markdown",
            "metadata": {
                "azdata_cell_guid": "b930f90e-968f-486b-ac06-0225dd634b02"
            },
            "source": [
                "## Data Cleaning and Preprocessing\n",
                "\n",
                "### Load the data"
            ]
        },
        {
            "cell_type": "code",
            "execution_count": null,
            "metadata": {
                "azdata_cell_guid": "38c520bf-c4e5-4d97-8418-78a1f02734f0"
            },
            "outputs": [],
            "source": [
                "import pandas as pd\n",
                "\n",
                "population_filepath = 'data/population.original.csv'\n",
                "gdp_filepath = 'data/gdp.original.csv'\n",
                "\n",
                "population_df = pd.read_csv(population_filepath, delimiter=',', encoding='utf-8')\n",
                "gdp_df = pd.read_csv(gdp_filepath, delimiter=',', encoding='utf-8')"
            ]
        },
        {
            "cell_type": "code",
            "execution_count": null,
            "metadata": {},
            "outputs": [],
            "source": [
                "population_df.head()"
            ]
        },
        {
            "cell_type": "code",
            "execution_count": null,
            "metadata": {},
            "outputs": [],
            "source": [
                "gdp_df.head()"
            ]
        },
        {
            "cell_type": "markdown",
            "metadata": {},
            "source": [
                "### Check for missing values"
            ]
        },
        {
            "cell_type": "code",
            "execution_count": null,
            "metadata": {},
            "outputs": [],
            "source": [
                "population_df.isnull().sum()"
            ]
        },
        {
            "cell_type": "code",
            "execution_count": null,
            "metadata": {},
            "outputs": [],
            "source": [
                "gdp_df.isnull().sum()"
            ]
        },
        {
            "cell_type": "markdown",
            "metadata": {
                "azdata_cell_guid": "b696f137-4af1-4004-ad53-390094dbe80d"
            },
            "source": [
                "No missing values found.\n",
                "\n",
                "### Check for duplicates"
            ]
        },
        {
            "cell_type": "code",
            "execution_count": null,
            "metadata": {},
            "outputs": [],
            "source": [
                "dupes_population = population_df.duplicated()\n",
                "sum(dupes_population)"
            ]
        },
        {
            "cell_type": "code",
            "execution_count": null,
            "metadata": {},
            "outputs": [],
            "source": [
                "dupes_gdp = gdp_df.duplicated()\n",
                "sum(dupes_gdp)"
            ]
        },
        {
            "cell_type": "markdown",
            "metadata": {},
            "source": [
                "No duplicates found.\n",
                "\n",
                "### Check for outliers\n",
                "\n",
                "Find data points that are 1.5 times the interquartile range away from Q1 or Q3:"
            ]
        },
        {
            "cell_type": "code",
            "execution_count": null,
            "metadata": {},
            "outputs": [],
            "source": [
                "population_df_japan = population_df[(population_df['Country or Area'] == 'Japan') & \n",
                "                                    (population_df['Variant'] == 'Medium')]\n",
                "\n",
                "numeric_data_population_japan = population_df_japan[['Value']]\n",
                "\n",
                "Q1_population_japan = numeric_data_population_japan.quantile(0.25)\n",
                "Q3_population_japan = numeric_data_population_japan.quantile(0.75)\n",
                "\n",
                "IQR_population_japan = Q3_population_japan - Q1_population_japan\n",
                "\n",
                "outliers_population_japan = numeric_data_population_japan[((numeric_data_population_japan < (Q1_population_japan - 1.5 * IQR_population_japan)) |\n",
                "                                                          (numeric_data_population_japan > (Q3_population_japan + 1.5 * IQR_population_japan))).any(axis=1)]\n",
                "\n",
                "outliers_population_japan.shape\n"
            ]
        },
        {
            "cell_type": "code",
            "execution_count": null,
            "metadata": {},
            "outputs": [],
            "source": [
                "population_df_korea = population_df[(population_df['Country or Area'] == 'Republic of Korea') & \n",
                "                                    (population_df['Variant'] == 'Medium')]\n",
                "\n",
                "numeric_data_population_korea = population_df_korea[['Value']]\n",
                "\n",
                "Q1_population_korea = numeric_data_population_korea.quantile(0.25)\n",
                "Q3_population_korea = numeric_data_population_korea.quantile(0.75)\n",
                "\n",
                "IQR_population_korea = Q3_population_korea - Q1_population_korea\n",
                "\n",
                "outliers_population_korea = numeric_data_population_korea[((numeric_data_population_korea < (Q1_population_korea - 1.5 * IQR_population_korea)) |\n",
                "                                                          (numeric_data_population_korea > (Q3_population_korea + 1.5 * IQR_population_korea))).any(axis=1)]\n",
                "\n",
                "outliers_population_korea.shape"
            ]
        },
        {
            "cell_type": "code",
            "execution_count": null,
            "metadata": {},
            "outputs": [],
            "source": [
                "population_df_china = population_df[(population_df['Country or Area'] == 'China') & \n",
                "                                    (population_df['Variant'] == 'Medium')]\n",
                "\n",
                "numeric_data_population_china = population_df_china[['Value']]\n",
                "\n",
                "Q1_population_china = numeric_data_population_china.quantile(0.25)\n",
                "Q3_population_china = numeric_data_population_china.quantile(0.75)\n",
                "\n",
                "IQR_population_china = Q3_population_china - Q1_population_china\n",
                "\n",
                "outliers_population_china = numeric_data_population_china[((numeric_data_population_china < (Q1_population_china - 1.5 * IQR_population_china)) |\n",
                "                                                          (numeric_data_population_china > (Q3_population_china + 1.5 * IQR_population_china))).any(axis=1)]\n",
                "\n",
                "outliers_population_china.shape"
            ]
        },
        {
            "cell_type": "code",
            "execution_count": null,
            "metadata": {},
            "outputs": [],
            "source": [
                "gdp_df_japan = gdp_df[(gdp_df['Country or Area'] == 'Japan') & \n",
                "                        (gdp_df['Item'] == 'Gross Domestic Product (GDP)')]\n",
                "\n",
                "numeric_data_gdp_japan = gdp_df_japan[['Value']]\n",
                "\n",
                "Q1_gdp_japan = numeric_data_gdp_japan.quantile(0.25)\n",
                "Q3_gdp_japan = numeric_data_gdp_japan.quantile(0.75)\n",
                "\n",
                "IQR_gdp_japan = Q3_gdp_japan - Q1_gdp_japan\n",
                "\n",
                "outliers_gdp_japan = numeric_data_gdp_japan[((numeric_data_gdp_japan < (Q1_gdp_japan - 1.5 * IQR_gdp_japan)) |\n",
                "                                                          (numeric_data_gdp_japan > (Q3_gdp_japan + 1.5 * IQR_gdp_japan))).any(axis=1)]\n",
                "\n",
                "outliers_gdp_japan.shape"
            ]
        },
        {
            "cell_type": "code",
            "execution_count": null,
            "metadata": {},
            "outputs": [],
            "source": [
                "gdp_df_korea = gdp_df[(gdp_df['Country or Area'] == 'Republic of Korea') & \n",
                "                        (gdp_df['Item'] == 'Gross Domestic Product (GDP)')]\n",
                "\n",
                "numeric_data_gdp_korea = gdp_df_korea[['Value']]\n",
                "\n",
                "Q1_gdp_korea = numeric_data_gdp_korea.quantile(0.25)\n",
                "Q3_gdp_korea = numeric_data_gdp_korea.quantile(0.75)\n",
                "\n",
                "IQR_gdp_korea = Q3_gdp_korea - Q1_gdp_korea\n",
                "\n",
                "outliers_gdp_korea = numeric_data_gdp_korea[((numeric_data_gdp_korea < (Q1_gdp_korea - 1.5 * IQR_gdp_korea)) |\n",
                "                                                          (numeric_data_gdp_korea > (Q3_gdp_korea + 1.5 * IQR_gdp_korea))).any(axis=1)]\n",
                "\n",
                "outliers_gdp_korea.shape"
            ]
        },
        {
            "cell_type": "code",
            "execution_count": null,
            "metadata": {},
            "outputs": [],
            "source": [
                "gdp_df_china = gdp_df[(gdp_df['Country or Area'] == 'China (mainland)') & \n",
                "                        (gdp_df['Item'] == 'Gross Domestic Product (GDP)')]\n",
                "\n",
                "numeric_data_gdp_china = gdp_df_china[['Value']]\n",
                "\n",
                "Q1_gdp_china = numeric_data_gdp_china.quantile(0.25)\n",
                "Q3_gdp_china = numeric_data_gdp_china.quantile(0.75)\n",
                "\n",
                "IQR_gdp_china = Q3_gdp_china - Q1_gdp_china\n",
                "\n",
                "outliers_gdp_china = numeric_data_gdp_china[((numeric_data_gdp_china < (Q1_gdp_china - 1.5 * IQR_gdp_china)) |\n",
                "                                                          (numeric_data_gdp_china > (Q3_gdp_china + 1.5 * IQR_gdp_china))).any(axis=1)]\n",
                "\n",
                "outliers_gdp_china.shape"
            ]
        },
        {
            "cell_type": "markdown",
            "metadata": {},
            "source": [
                "Five outliers present in data on China's GDP. Will proceed with removing these outliers:"
            ]
        },
        {
            "cell_type": "code",
            "execution_count": null,
            "metadata": {},
            "outputs": [],
            "source": [
                "gdp_df_china = gdp_df_china[~ gdp_df_china.index.isin(outliers_gdp_china.index)]\n",
                "\n",
                "gdp_df_china.shape"
            ]
        },
        {
            "cell_type": "markdown",
            "metadata": {},
            "source": [
                "### Merge or join datasets \n",
                "\n",
                "For each dataset, year ranges must match between the three countries:"
            ]
        },
        {
            "cell_type": "code",
            "execution_count": null,
            "metadata": {},
            "outputs": [],
            "source": [
                "population_df_japan = population_df_japan[['Year(s)', 'Value']]\n",
                "population_df_japan = population_df_japan.rename(columns={'Value': 'Japan'})\n",
                "\n",
                "population_df_korea = population_df_korea[['Year(s)', 'Value']]\n",
                "population_df_korea = population_df_korea.rename(columns={'Value': 'Korea'})\n",
                "\n",
                "population_df_china = population_df_china[['Year(s)', 'Value']]\n",
                "population_df_china = population_df_china.rename(columns={'Value': 'China'})\n",
                "\n",
                "population_df = population_df_japan.merge(population_df_korea, on='Year(s)').merge(population_df_china, on='Year(s)')\n",
                "population_df = population_df.rename(columns={'Year(s)': 'Year'})\n",
                "\n",
                "population_df.head()"
            ]
        },
        {
            "cell_type": "code",
            "execution_count": null,
            "metadata": {},
            "outputs": [],
            "source": [
                "gdp_df_japan = gdp_df_japan[['Year', 'Value']]\n",
                "gdp_df_japan = gdp_df_japan.rename(columns={'Value': 'Japan'})\n",
                "\n",
                "gdp_df_korea = gdp_df_korea[['Year', 'Value']]\n",
                "gdp_df_korea = gdp_df_korea.rename(columns={'Value': 'Korea'})\n",
                "\n",
                "gdp_df_china = gdp_df_china[['Year', 'Value']]\n",
                "gdp_df_china = gdp_df_china.rename(columns={'Value': 'China'})\n",
                "\n",
                "gdp_df = gdp_df_japan.merge(gdp_df_korea, on='Year').merge(gdp_df_china, on='Year')\n",
                "\n",
                "gdp_df.head()"
            ]
        },
        {
            "cell_type": "markdown",
            "metadata": {
                "azdata_cell_guid": "8863cfd3-a5e0-4d0b-9238-346c9c047c09"
            },
            "source": [
                "## Descriptive Statistics\n",
                "\n",
                "### Summary statistics\n"
            ]
        },
        {
            "cell_type": "code",
            "execution_count": null,
            "metadata": {},
            "outputs": [],
            "source": [
                "population_df.describe()"
            ]
        },
        {
            "cell_type": "code",
            "execution_count": null,
            "metadata": {},
            "outputs": [],
            "source": [
                "gdp_df.describe()"
            ]
        },
        {
            "cell_type": "markdown",
            "metadata": {},
            "source": [
                "### Distribution visualizations"
            ]
        },
        {
            "cell_type": "code",
            "execution_count": null,
            "metadata": {},
            "outputs": [],
            "source": [
                "import matplotlib.pyplot as plt\n",
                "import seaborn as sns\n",
                "\n",
                "population_df_unpivot = pd.melt(population_df, id_vars='Year', value_vars=['Japan', 'Korea', 'China'])\n",
                "population_df_unpivot = population_df_unpivot.rename(columns={'variable': 'Country', 'value': 'Population'})\n",
                "\n",
                "# KDE plots for each country\n",
                "sns.kdeplot(data=population_df_unpivot, x='Population', hue='Country', shade=True)\n",
                "\n",
                "# Add title\n",
                "plt.title('Distribution of Population, by Country')"
            ]
        },
        {
            "cell_type": "code",
            "execution_count": null,
            "metadata": {},
            "outputs": [],
            "source": [
                "gdp_df_unpivot = pd.melt(gdp_df, id_vars='Year', value_vars=['Japan', 'Korea', 'China'])\n",
                "gdp_df_unpivot = gdp_df_unpivot.rename(columns={'variable': 'Country', 'value': 'GDP'})\n",
                "\n",
                "# KDE plots for each country\n",
                "sns.kdeplot(data=gdp_df_unpivot, x='GDP', hue='Country', shade=True)\n",
                "\n",
                "# Add title\n",
                "plt.title('Distribution of GDP, by Country')"
            ]
        },
        {
            "cell_type": "markdown",
            "metadata": {
                "azdata_cell_guid": "6c94daac-bee7-429b-9f64-6d6e71d98d6b"
            },
            "source": [
                "## Data Visualization\n",
                "\n",
                "### Scatter plot"
            ]
        },
        {
            "cell_type": "code",
            "execution_count": null,
            "metadata": {},
            "outputs": [],
            "source": [
                "combined_df = population_df_unpivot.merge(gdp_df_unpivot, on=['Year','Country'])\n",
                "\n",
                "combined_df['GDP_per_Capita'] = combined_df['GDP'] / combined_df['Population']\n",
                "\n",
                "sns.scatterplot(x=combined_df['Year'], y=combined_df['GDP_per_Capita'], hue=combined_df['Country'])\n",
                "\n",
                "# Add title\n",
                "plt.title('GDP per Capita from 1970-2016, by Country')"
            ]
        },
        {
            "cell_type": "markdown",
            "metadata": {},
            "source": [
                "### Bar chart"
            ]
        },
        {
            "cell_type": "code",
            "execution_count": null,
            "metadata": {},
            "outputs": [],
            "source": [
                "combined_df_simplified = combined_df[combined_df['Year'].isin(['1970', '1980', '1990', '2000', '2010'])]\n",
                "\n",
                "#set seaborn plotting aesthetics\n",
                "sns.set(style='white')\n",
                "\n",
                "#create grouped bar chart\n",
                "sns.barplot(x='Year', y='GDP_per_Capita', hue='Country', data=combined_df_simplified) \n",
                "\n",
                "# Add title\n",
                "plt.title('GDP per Capita from 1970-2010, by Country')"
            ]
        },
        {
            "cell_type": "markdown",
            "metadata": {},
            "source": [
                "### Heatmap"
            ]
        },
        {
            "cell_type": "code",
            "execution_count": null,
            "metadata": {},
            "outputs": [],
            "source": [
                "gdp_per_capita_df = pd.pivot_table(combined_df,\n",
                "                                   values = 'GDP_per_Capita',\n",
                "                                   index = ['Year'],\n",
                "                                   columns = 'Country').reset_index()\n",
                "\n",
                "gdp_per_capita_df_simplified = gdp_per_capita_df[gdp_per_capita_df['Year'].isin(['1970', '1980', '1990', '2000', '2010'])]\n",
                "\n",
                "gdp_per_capita_df_simplified = gdp_per_capita_df_simplified.set_index('Year')\n",
                "\n",
                "# Set the width and height of the figure\n",
                "plt.figure(figsize=(14,7))\n",
                "\n",
                "# Add title\n",
                "plt.title('GDP per Capita from 1970-2010, by Country')\n",
                "\n",
                "# Heatmap showing average arrival delay for each airline by month\n",
                "sns.heatmap(data=gdp_per_capita_df_simplified, annot=True)\n",
                "\n",
                "# Add label for horizontal axis\n",
                "plt.xlabel('Country')"
            ]
        },
        {
            "cell_type": "markdown",
            "metadata": {},
            "source": [
                "## Time Series Analysis\n",
                "\n",
                "### Rolling averages"
            ]
        },
        {
            "cell_type": "code",
            "execution_count": null,
            "metadata": {},
            "outputs": [],
            "source": [
                "gdp_per_capita_df = gdp_per_capita_df.set_index('Year')"
            ]
        },
        {
            "cell_type": "code",
            "execution_count": null,
            "metadata": {},
            "outputs": [],
            "source": [
                "gdp_per_capita_df_japan = gdp_per_capita_df['Japan']\n",
                "\n",
                "rolling_average_decade = gdp_per_capita_df_japan.rolling(\n",
                "    window=10,      # 10-year window\n",
                "    center=True,    # puts the average at the center of the window\n",
                "    min_periods=5   # choose about half the window size\n",
                ").mean()            # compute the mean\n",
                "\n",
                "fig, ax = plt.subplots(figsize=(8, 4))\n",
                "gdp_per_capita_df_japan.plot(ax=ax, style=\".\", color=\"0.5\", title=\"Japan's GDP per Capita from 1970-2016\")\n",
                "rolling_average_decade.plot(ax=ax, grid=True, label=\"10-year rolling average\", legend=True)"
            ]
        },
        {
            "cell_type": "code",
            "execution_count": null,
            "metadata": {},
            "outputs": [],
            "source": [
                "gdp_per_capita_df_korea = gdp_per_capita_df['Korea']\n",
                "\n",
                "rolling_average_decade = gdp_per_capita_df_korea.rolling(\n",
                "    window=10,      # 10-year window\n",
                "    center=True,    # puts the average at the center of the window\n",
                "    min_periods=5   # choose about half the window size\n",
                ").mean()            # compute the mean\n",
                "\n",
                "fig, ax = plt.subplots(figsize=(8, 4))\n",
                "gdp_per_capita_df_korea.plot(ax=ax, style=\".\", color=\"0.5\", title=\"Korea's GDP per Capita from 1970-2016\")\n",
                "rolling_average_decade.plot(ax=ax, grid=True, label=\"10-year rolling average\", legend=True)"
            ]
        },
        {
            "cell_type": "code",
            "execution_count": null,
            "metadata": {},
            "outputs": [],
            "source": [
                "gdp_per_capita_df_china = gdp_per_capita_df['China']\n",
                "\n",
                "rolling_average_decade = gdp_per_capita_df_china.rolling(\n",
                "    window=10,      # 10-year window\n",
                "    center=True,    # puts the average at the center of the window\n",
                "    min_periods=5   # choose about half the window size\n",
                ").mean()            # compute the mean\n",
                "\n",
                "fig, ax = plt.subplots(figsize=(8, 4))\n",
                "gdp_per_capita_df_china.plot(ax=ax, style=\".\", color=\"0.5\", title=\"China's GDP per Capita from 1970-2016\")\n",
                "rolling_average_decade.plot(ax=ax, grid=True, label=\"10-year rolling average\", legend=True)"
            ]
        },
        {
            "cell_type": "code",
            "execution_count": null,
            "metadata": {},
            "outputs": [],
            "source": [
                "gdp_per_capita_df = gdp_per_capita_df.reset_index()"
            ]
        },
        {
            "cell_type": "markdown",
            "metadata": {},
            "source": [
                "### Time series graphs"
            ]
        },
        {
            "cell_type": "code",
            "execution_count": null,
            "metadata": {},
            "outputs": [],
            "source": [
                "population_df = population_df.set_index('Year')"
            ]
        },
        {
            "cell_type": "code",
            "execution_count": null,
            "metadata": {},
            "outputs": [],
            "source": [
                "ax = population_df['Japan'].plot(kind='line', label=\"Japan\", legend= True, title=\"Population (thousands) from 1950-2100, by Country\")\n",
                "population_df['Korea'].plot(ax=ax, label=\"Korea\", legend=True)\n",
                "population_df['China'].plot(ax=ax, label=\"China\", legend=True)"
            ]
        },
        {
            "cell_type": "code",
            "execution_count": null,
            "metadata": {},
            "outputs": [],
            "source": [
                "gdp_df = gdp_df.set_index('Year')"
            ]
        },
        {
            "cell_type": "code",
            "execution_count": null,
            "metadata": {},
            "outputs": [],
            "source": [
                "ax = gdp_df['Japan'].plot(kind='line', label=\"Japan\", legend= True, title=\"GDP from 1970-2016, by Country\")\n",
                "gdp_df['Korea'].plot(ax=ax, label=\"Korea\", legend=True)\n",
                "gdp_df['China'].plot(ax=ax, label=\"China\", legend=True)"
            ]
        },
        {
            "cell_type": "markdown",
            "metadata": {},
            "source": [
                "## Correlation and Regression\n",
                "\n",
                "### Correlation coefficients between Population and GDP\n",
                "\n",
                "__Japan__"
            ]
        },
        {
            "cell_type": "code",
            "execution_count": null,
            "metadata": {},
            "outputs": [],
            "source": [
                "correlations_japan = combined_df[combined_df['Country'] == 'Japan'][['Population', 'GDP']].corr(method='pearson')\n",
                "print(correlations_japan)"
            ]
        },
        {
            "cell_type": "markdown",
            "metadata": {},
            "source": [
                "__Korea__"
            ]
        },
        {
            "cell_type": "code",
            "execution_count": null,
            "metadata": {},
            "outputs": [],
            "source": [
                "correlations_korea = combined_df[combined_df['Country'] == 'Korea'][['Population', 'GDP']].corr(method='pearson')\n",
                "print(correlations_korea)"
            ]
        },
        {
            "cell_type": "markdown",
            "metadata": {},
            "source": [
                "__China__"
            ]
        },
        {
            "cell_type": "code",
            "execution_count": null,
            "metadata": {},
            "outputs": [],
            "source": [
                "correlations_china = combined_df[combined_df['Country'] == 'China'][['Population', 'GDP']].corr(method='pearson')\n",
                "print(correlations_china)"
            ]
        },
        {
            "cell_type": "markdown",
            "metadata": {},
            "source": [
                "### Regression plots"
            ]
        },
        {
            "cell_type": "code",
            "execution_count": null,
            "metadata": {},
            "outputs": [],
            "source": [
                "from sklearn.linear_model import LinearRegression\n",
                "\n",
                "# Extract input variable(s)\n",
                "X = gdp_per_capita_df.values[:, 0]\n",
                "\n",
                "# Extract output column(s) \n",
                "Y_japan = gdp_per_capita_df.values[:, 2]\n",
                "\n",
                "# Fit a line to the points\n",
                "fit_japan = LinearRegression().fit(X.reshape(-1, 1), Y_japan)\n",
                "\n",
                "# m \n",
                "m_japan = fit_japan.coef_.flatten()\n",
                "\n",
                "# b\n",
                "b_japan = fit_japan.intercept_.flatten()\n",
                "\n",
                "plt.figure(figsize=(6, 4))\n",
                "plt.plot(X, Y_japan, 'o') # scatterplot\n",
                "plt.plot(X, m_japan * X + b_japan, label=\"Predictions\") # line\n",
                "plt.xlabel(\"$Year$\")\n",
                "plt.ylabel(\"$GDP\\ per\\ Capita$\")\n",
                "plt.legend(loc=\"upper left\")\n",
                "plt.grid()\n",
                "plt.title(\"Japan's GDP per Capita from 1970-2016\")\n",
                "plt.show()"
            ]
        },
        {
            "cell_type": "code",
            "execution_count": null,
            "metadata": {},
            "outputs": [],
            "source": [
                "import numpy as np\n",
                "from sklearn.preprocessing import PolynomialFeatures\n",
                "\n",
                "# Extract output column(s) \n",
                "Y_korea = gdp_per_capita_df.values[:, 3]\n",
                "\n",
                "# Fit a line to the points\n",
                "poly_features = PolynomialFeatures(degree=2, include_bias=False)\n",
                "X_poly = poly_features.fit_transform(X.reshape(-1, 1))\n",
                "\n",
                "fit_korea = LinearRegression().fit(X_poly, Y_korea)\n",
                "\n",
                "y_new_korea = fit_korea.predict(X_poly)\n",
                "\n",
                "plt.figure(figsize=(6, 4))\n",
                "plt.plot(X, Y_korea, \"b.\") # scatterplot\n",
                "plt.plot(X, y_new_korea, \"r-\", linewidth=2, label=\"Predictions\") # line\n",
                "plt.xlabel(\"$Year$\")\n",
                "plt.ylabel(\"$GDP\\ per\\ Capita$\")\n",
                "plt.legend(loc=\"upper left\")\n",
                "plt.grid()\n",
                "plt.title(\"Korea's GDP per Capita from 1970-2016\")\n",
                "plt.show()"
            ]
        },
        {
            "cell_type": "code",
            "execution_count": null,
            "metadata": {},
            "outputs": [],
            "source": [
                "# Extract output column(s) \n",
                "Y_china = gdp_per_capita_df.values[:, 1]\n",
                "\n",
                "fit_china = LinearRegression().fit(X_poly, Y_china)\n",
                "\n",
                "y_new_china = fit_china.predict(X_poly)\n",
                "\n",
                "plt.figure(figsize=(6, 4))\n",
                "plt.plot(X, Y_china, \"b.\") # scatterplot\n",
                "plt.plot(X, y_new_china, \"r-\", linewidth=2, label=\"Predictions\") # line\n",
                "plt.xlabel(\"$Year$\")\n",
                "plt.ylabel(\"$GDP\\ per\\ Capita$\")\n",
                "plt.legend(loc=\"upper left\")\n",
                "plt.grid()\n",
                "plt.title(\"China's GDP per Capita from 1970-2016\")\n",
                "plt.show()"
            ]
        },
        {
            "cell_type": "markdown",
            "metadata": {},
            "source": [
                "## Cluster Analysis"
            ]
        },
        {
            "cell_type": "code",
            "execution_count": null,
            "metadata": {},
            "outputs": [],
            "source": [
                "from sklearn.cluster import KMeans\n",
                "\n",
                "# Set Matplotlib defaults\n",
                "plt.style.use(\"seaborn-whitegrid\")\n",
                "plt.rc(\"figure\", autolayout=True)\n",
                "plt.rc(\n",
                "    \"axes\",\n",
                "    labelweight=\"bold\",\n",
                "    labelsize=\"large\",\n",
                "    titleweight=\"bold\",\n",
                "    titlesize=14,\n",
                "    titlepad=10,\n",
                ")\n",
                "\n",
                "X = combined_df.copy()\n",
                "y = X.pop(\"Population\")\n",
                "\n",
                "# Define a list of the feature(s) to be used for the clustering\n",
                "features = [\"GDP\"]\n",
                "\n",
                "# Standardize\n",
                "X_scaled = X.loc[:, features]\n",
                "X_scaled = (X_scaled - X_scaled.mean(axis=0)) / X_scaled.std(axis=0)\n",
                "\n",
                "# Fit the KMeans model to X_scaled and create the cluster labels\n",
                "kmeans = KMeans(n_clusters=3)\n",
                "X[\"Cluster\"] = kmeans.fit_predict(X_scaled)\n",
                "\n",
                "Xy = X.copy()\n",
                "Xy[\"Cluster\"] = Xy.Cluster.astype(\"category\")\n",
                "Xy[\"Population\"] = y\n",
                "sns.relplot(\n",
                "    x=\"value\", y=\"Population\", hue=\"Cluster\", col=\"variable\",\n",
                "    height=4, \n",
                "    data=Xy.melt(\n",
                "        value_vars=features, id_vars=[\"Population\", \"Cluster\"],\n",
                "    ),\n",
                ");"
            ]
        },
        {
            "cell_type": "markdown",
            "metadata": {},
            "source": [
                "## Interpretation and Insights\n",
                "\n",
                "This exploratory analysis suggests that the economic welfare of all three countries (measured by GDP per capita and GDP) have increased significantly in the past four decades. For Japan, this growth seems to have plateaued around 1990. Korea seems to have enjoyed the greatest percent increase overall.\n",
                "\n",
                "Population-wise, Korea and Japan have remained stable while China's much larger population skyrocketed and peaked around 2020. The sudden decrease in China's population may explain why it has a lower correlation coefficient between population and GDP (0.744818), as opposed to the other two countries (0.976414 for Japan and 0.869311 for Korea)."
            ]
        }
    ],
    "metadata": {
        "kernelspec": {
            "display_name": "python37",
            "language": "python",
            "name": "python3"
        },
        "language_info": {
            "codemirror_mode": {
                "name": "ipython",
                "version": 3
            },
            "file_extension": ".py",
            "mimetype": "text/x-python",
            "name": "python",
            "nbconvert_exporter": "python",
            "pygments_lexer": "ipython3",
            "version": "3.7.16"
        }
    },
    "nbformat": 4,
    "nbformat_minor": 2
}
